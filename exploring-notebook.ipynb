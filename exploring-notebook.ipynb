{
 "cells": [
  {
   "cell_type": "markdown",
   "id": "4ed88727-f9a8-4933-afd7-00d4105f1ca9",
   "metadata": {},
   "source": [
    "# Introduction"
   ]
  },
  {
   "cell_type": "markdown",
   "id": "c747d469-ee97-4b95-880f-feefd5456042",
   "metadata": {
    "id": "bA5ajAmk7XH6"
   },
   "source": [
    "![NYC Skyline](nyc.jpg)\n",
    "\n",
    "Welcome to New York City, one of the most-visited cities in the world. There are many Airbnb listings in New York City to meet the high demand for temporary lodging for travelers, which can be anywhere between a few nights to many months. In this project, we will take a closer look at the New York Airbnb market by combining data from multiple file types like `.csv`, `.tsv`, and `.xlsx`.\n",
    "\n",
    "Recall that **CSV**, **TSV**, and **Excel** files are three common formats for storing data. \n",
    "Three files containing data on 2019 Airbnb listings are available to you:\n",
    "\n",
    "**data/airbnb_price.csv**\n",
    "This is a CSV file containing data on Airbnb listing prices and locations.\n",
    "- **`listing_id`**: unique identifier of listing\n",
    "- **`price`**: nightly listing price in USD\n",
    "- **`nbhood_full`**: name of borough and neighborhood where listing is located\n",
    "\n",
    "**data/airbnb_room_type.xlsx**\n",
    "This is an Excel file containing data on Airbnb listing descriptions and room types.\n",
    "- **`listing_id`**: unique identifier of listing\n",
    "- **`description`**: listing description\n",
    "- **`room_type`**: Airbnb has three types of rooms: shared rooms, private rooms, and entire homes/apartments\n",
    "\n",
    "**data/airbnb_last_review.tsv**\n",
    "This is a TSV file containing data on Airbnb host names and review dates.\n",
    "- **`listing_id`**: unique identifier of listing\n",
    "- **`host_name`**: name of listing host\n",
    "- **`last_review`**: date when the listing was last reviewed"
   ]
  },
  {
   "cell_type": "markdown",
   "id": "aa545fbf-5255-47d2-9f44-7456bd6e23e5",
   "metadata": {},
   "source": [
    "# Project statement"
   ]
  },
  {
   "cell_type": "markdown",
   "id": "d140d983-0c49-4b3a-8a01-2b3dca871ef9",
   "metadata": {},
   "source": [
    "As a consultant working for a real estate start-up, you have collected Airbnb listing data from various sources to investigate the short-term rental market in New York. You'll analyze this data to provide insights on private rooms to the real estate company.\n",
    "\n",
    "There are three files in the `data` folder: `airbnb_price.csv`, `airbnb_room_type.xlsx`, and `airbnb_last_review.tsv`.\n",
    "\n",
    "- What are the dates of the earliest and most recent reviews? Store these values as two separate variables with your preferred names.\n",
    "- How many of the listings are private rooms? Save this into any variable.\n",
    "- What is the average listing price? Round to the nearest two decimal places and save into a variable.\n",
    "- Combine the new variables into one DataFrame called `review_dates` with four columns in the following order: `first_reviewed`, `last_reviewed`, `nb_private_rooms`, and `avg_price`. The DataFrame should only contain one row of values."
   ]
  },
  {
   "cell_type": "markdown",
   "id": "1791a5e9-5c74-4188-8fe9-58b2859ed1f8",
   "metadata": {},
   "source": [
    "# Importing packages, reading data"
   ]
  },
  {
   "cell_type": "code",
   "execution_count": 1,
   "id": "1fdc5784-479e-46cb-b05b-68439dcc94a7",
   "metadata": {
    "executionCancelledAt": null,
    "executionTime": 2469,
    "lastExecutedAt": 1714136608190,
    "lastExecutedByKernel": "3ef23352-7ec2-4f84-94c0-43f0da95481d",
    "lastScheduledRunId": null,
    "lastSuccessfullyExecutedCode": "# We've loaded your first package for you! You can add as many cells as you need.\nimport numpy as np\n\n# Begin coding here ..."
   },
   "outputs": [],
   "source": [
    "import pandas as pd\n",
    "import numpy as np\n",
    "import re\n",
    "import itertools as it"
   ]
  },
  {
   "cell_type": "code",
   "execution_count": 2,
   "id": "0927ca95-1b57-40b8-8d86-fa421fa7530b",
   "metadata": {},
   "outputs": [],
   "source": [
    "price = pd.read_csv('data/airbnb_price.csv')\n",
    "room_type = pd.read_excel('data/airbnb_room_type.xlsx')\n",
    "last_review = pd.read_csv('data/airbnb_last_review.tsv', sep = '\\t')"
   ]
  },
  {
   "cell_type": "markdown",
   "id": "150b549a-f0fa-45cd-ba63-eb3168703893",
   "metadata": {},
   "source": [
    "# Cleaning"
   ]
  },
  {
   "cell_type": "markdown",
   "id": "98648adb-1ac0-4058-a6cc-ab155ac660f3",
   "metadata": {},
   "source": [
    "## data: price"
   ]
  },
  {
   "cell_type": "markdown",
   "id": "343f5823-ced4-4f5d-989f-6a65fc46869c",
   "metadata": {},
   "source": [
    "### First look"
   ]
  },
  {
   "cell_type": "code",
   "execution_count": 3,
   "id": "7ebb7619-10cd-48f0-95b6-738d598e545a",
   "metadata": {},
   "outputs": [
    {
     "name": "stdout",
     "output_type": "stream",
     "text": [
      "<class 'pandas.core.frame.DataFrame'>\n",
      "RangeIndex: 25209 entries, 0 to 25208\n",
      "Data columns (total 3 columns):\n",
      " #   Column       Non-Null Count  Dtype \n",
      "---  ------       --------------  ----- \n",
      " 0   listing_id   25209 non-null  int64 \n",
      " 1   price        25209 non-null  object\n",
      " 2   nbhood_full  25209 non-null  object\n",
      "dtypes: int64(1), object(2)\n",
      "memory usage: 591.0+ KB\n"
     ]
    }
   ],
   "source": [
    "price.info()"
   ]
  },
  {
   "cell_type": "markdown",
   "id": "dee2600d-772f-4ecd-a3c5-ea1a4af7e08b",
   "metadata": {},
   "source": [
    "So `price` isn't missing any values. However it's weird that the `'price'` column is of type `object`. I'll circle back to that -- first I'll check the other two columns."
   ]
  },
  {
   "cell_type": "markdown",
   "id": "9646ac78-2b33-484e-89a6-d9469dc356da",
   "metadata": {
    "jp-MarkdownHeadingCollapsed": true
   },
   "source": [
    "### column: listing_id"
   ]
  },
  {
   "cell_type": "markdown",
   "id": "d56d47b8-6902-4535-80e9-1692ea5e9c5e",
   "metadata": {},
   "source": [
    "Number of unique listing ids:"
   ]
  },
  {
   "cell_type": "code",
   "execution_count": 4,
   "id": "c4ec7511-3952-470a-8f50-481a21d33875",
   "metadata": {},
   "outputs": [
    {
     "data": {
      "text/plain": [
       "25209"
      ]
     },
     "execution_count": 4,
     "metadata": {},
     "output_type": "execute_result"
    }
   ],
   "source": [
    "price['listing_id'].nunique()"
   ]
  },
  {
   "cell_type": "code",
   "execution_count": 5,
   "id": "87a15ee6-11ea-4e99-ab72-55769f677695",
   "metadata": {},
   "outputs": [
    {
     "data": {
      "text/plain": [
       "(25209, 3)"
      ]
     },
     "execution_count": 5,
     "metadata": {},
     "output_type": "execute_result"
    }
   ],
   "source": [
    "price.shape"
   ]
  },
  {
   "cell_type": "code",
   "execution_count": 6,
   "id": "5a49ac4d-d83b-4a8c-87af-1835c2c780ad",
   "metadata": {},
   "outputs": [
    {
     "data": {
      "text/plain": [
       "min        2595\n",
       "max    36455809\n",
       "Name: listing_id, dtype: int64"
      ]
     },
     "execution_count": 6,
     "metadata": {},
     "output_type": "execute_result"
    }
   ],
   "source": [
    "price['listing_id'].agg(['min', 'max'])"
   ]
  },
  {
   "cell_type": "markdown",
   "id": "c6e19bd4-b39d-433b-bf60-24558dbd1af1",
   "metadata": {},
   "source": [
    "So every value of `'listing_id'` in this table is unique, and the values range from four digits to eight. I don't have any other way to check whether these values make sense here, but since all three DataFrames contain a `'listing_id'` column, I'll compare the values in those columns below to check for consistency."
   ]
  },
  {
   "cell_type": "markdown",
   "id": "6c9482e4-8973-483a-a03f-2cbb1a9cd2cf",
   "metadata": {},
   "source": [
    "### column: nbhood_full"
   ]
  },
  {
   "cell_type": "code",
   "execution_count": 7,
   "id": "f529bcf7-fc55-410e-8913-f7d8f206aabf",
   "metadata": {},
   "outputs": [
    {
     "data": {
      "text/plain": [
       "0           Manhattan, Midtown\n",
       "1       Brooklyn, Clinton Hill\n",
       "2       Manhattan, Murray Hill\n",
       "3    Manhattan, Hell's Kitchen\n",
       "4         Manhattan, Chinatown\n",
       "Name: nbhood_full, dtype: object"
      ]
     },
     "execution_count": 7,
     "metadata": {},
     "output_type": "execute_result"
    }
   ],
   "source": [
    "price['nbhood_full'].head()"
   ]
  },
  {
   "cell_type": "markdown",
   "id": "b16038cf-a463-45bb-8431-2f2a80db4af3",
   "metadata": {},
   "source": [
    "So this column seems to contain values of the format \"borough, neighborhood\". Let me check that all values in this column match this format."
   ]
  },
  {
   "cell_type": "code",
   "execution_count": 8,
   "id": "57f1b65d-c6c9-4bb6-adcd-42754a10b42d",
   "metadata": {},
   "outputs": [
    {
     "data": {
      "text/html": [
       "<div>\n",
       "<style scoped>\n",
       "    .dataframe tbody tr th:only-of-type {\n",
       "        vertical-align: middle;\n",
       "    }\n",
       "\n",
       "    .dataframe tbody tr th {\n",
       "        vertical-align: top;\n",
       "    }\n",
       "\n",
       "    .dataframe thead th {\n",
       "        text-align: right;\n",
       "    }\n",
       "</style>\n",
       "<table border=\"1\" class=\"dataframe\">\n",
       "  <thead>\n",
       "    <tr style=\"text-align: right;\">\n",
       "      <th></th>\n",
       "      <th>0</th>\n",
       "      <th>1</th>\n",
       "      <th>2</th>\n",
       "    </tr>\n",
       "  </thead>\n",
       "  <tbody>\n",
       "    <tr>\n",
       "      <th>0</th>\n",
       "      <td>Manhattan</td>\n",
       "      <td>Midtown</td>\n",
       "      <td>None</td>\n",
       "    </tr>\n",
       "    <tr>\n",
       "      <th>1</th>\n",
       "      <td>Brooklyn</td>\n",
       "      <td>Clinton Hill</td>\n",
       "      <td>None</td>\n",
       "    </tr>\n",
       "    <tr>\n",
       "      <th>2</th>\n",
       "      <td>Manhattan</td>\n",
       "      <td>Murray Hill</td>\n",
       "      <td>None</td>\n",
       "    </tr>\n",
       "    <tr>\n",
       "      <th>3</th>\n",
       "      <td>Manhattan</td>\n",
       "      <td>Hell's Kitchen</td>\n",
       "      <td>None</td>\n",
       "    </tr>\n",
       "    <tr>\n",
       "      <th>4</th>\n",
       "      <td>Manhattan</td>\n",
       "      <td>Chinatown</td>\n",
       "      <td>None</td>\n",
       "    </tr>\n",
       "  </tbody>\n",
       "</table>\n",
       "</div>"
      ],
      "text/plain": [
       "           0               1     2\n",
       "0  Manhattan         Midtown  None\n",
       "1   Brooklyn    Clinton Hill  None\n",
       "2  Manhattan     Murray Hill  None\n",
       "3  Manhattan  Hell's Kitchen  None\n",
       "4  Manhattan       Chinatown  None"
      ]
     },
     "execution_count": 8,
     "metadata": {},
     "output_type": "execute_result"
    }
   ],
   "source": [
    "nbhood_split = price['nbhood_full'].str.split(', ', expand=True)\n",
    "nbhood_split.head()"
   ]
  },
  {
   "cell_type": "markdown",
   "id": "baf9a754-c698-4238-bee5-2166e6b16d20",
   "metadata": {},
   "source": [
    "Weirdly it's giving me three columns, when I only expect two. Let's see what's up with that third column:"
   ]
  },
  {
   "cell_type": "code",
   "execution_count": 9,
   "id": "03282eb7-fd09-4a47-beb3-a2d4d0a435d4",
   "metadata": {},
   "outputs": [
    {
     "data": {
      "text/plain": [
       "array([None, 'Staten Island'], dtype=object)"
      ]
     },
     "execution_count": 9,
     "metadata": {},
     "output_type": "execute_result"
    }
   ],
   "source": [
    "nbhood_split[2].unique()"
   ]
  },
  {
   "cell_type": "code",
   "execution_count": 10,
   "id": "646835d2-d8a0-4c98-948e-4373f6ff2c2b",
   "metadata": {},
   "outputs": [
    {
     "data": {
      "text/html": [
       "<div>\n",
       "<style scoped>\n",
       "    .dataframe tbody tr th:only-of-type {\n",
       "        vertical-align: middle;\n",
       "    }\n",
       "\n",
       "    .dataframe tbody tr th {\n",
       "        vertical-align: top;\n",
       "    }\n",
       "\n",
       "    .dataframe thead th {\n",
       "        text-align: right;\n",
       "    }\n",
       "</style>\n",
       "<table border=\"1\" class=\"dataframe\">\n",
       "  <thead>\n",
       "    <tr style=\"text-align: right;\">\n",
       "      <th></th>\n",
       "      <th>0</th>\n",
       "      <th>1</th>\n",
       "      <th>2</th>\n",
       "    </tr>\n",
       "  </thead>\n",
       "  <tbody>\n",
       "    <tr>\n",
       "      <th>21982</th>\n",
       "      <td>Staten Island</td>\n",
       "      <td>Bay Terrace</td>\n",
       "      <td>Staten Island</td>\n",
       "    </tr>\n",
       "  </tbody>\n",
       "</table>\n",
       "</div>"
      ],
      "text/plain": [
       "                   0            1              2\n",
       "21982  Staten Island  Bay Terrace  Staten Island"
      ]
     },
     "execution_count": 10,
     "metadata": {},
     "output_type": "execute_result"
    }
   ],
   "source": [
    "nbhood_split[nbhood_split[2] == 'Staten Island']"
   ]
  },
  {
   "cell_type": "markdown",
   "id": "fd00066d-6c22-4607-b8fe-bd9b414a8cfc",
   "metadata": {},
   "source": [
    "So one listing is out of format. However the first column is as it should be:"
   ]
  },
  {
   "cell_type": "code",
   "execution_count": 11,
   "id": "0715dc45-f02a-4dd3-bbcd-c42c5c0d4948",
   "metadata": {},
   "outputs": [
    {
     "name": "stdout",
     "output_type": "stream",
     "text": [
      "Manhattan\n",
      "Brooklyn\n",
      "Queens\n",
      "Staten Island\n",
      "Bronx\n"
     ]
    }
   ],
   "source": [
    "for x in nbhood_split[0].unique():\n",
    "    print(x)"
   ]
  },
  {
   "cell_type": "markdown",
   "id": "ff006be2-1afc-42eb-9c1b-aa72534d72cf",
   "metadata": {},
   "source": [
    "And a by-eye check of the unique values in the second column, grouped by the first, doesn't show anything ridiculous. So I'll incorporate the borough and neighborhood information into `price` as a pair of new columns:"
   ]
  },
  {
   "cell_type": "code",
   "execution_count": 12,
   "id": "19d72bc0-4ef6-4ed1-844b-70e7e6182f4c",
   "metadata": {},
   "outputs": [],
   "source": [
    "price[['borough', 'nbhood']] = nbhood_split[[0,1]]"
   ]
  },
  {
   "cell_type": "code",
   "execution_count": 13,
   "id": "d193ace2-44d2-4e8a-843f-faa59208166b",
   "metadata": {},
   "outputs": [
    {
     "name": "stdout",
     "output_type": "stream",
     "text": [
      "<class 'pandas.core.frame.DataFrame'>\n",
      "RangeIndex: 25209 entries, 0 to 25208\n",
      "Data columns (total 5 columns):\n",
      " #   Column       Non-Null Count  Dtype \n",
      "---  ------       --------------  ----- \n",
      " 0   listing_id   25209 non-null  int64 \n",
      " 1   price        25209 non-null  object\n",
      " 2   nbhood_full  25209 non-null  object\n",
      " 3   borough      25209 non-null  object\n",
      " 4   nbhood       25209 non-null  object\n",
      "dtypes: int64(1), object(4)\n",
      "memory usage: 984.9+ KB\n"
     ]
    }
   ],
   "source": [
    "price.info()"
   ]
  },
  {
   "cell_type": "markdown",
   "id": "88c91d8d-15f3-4374-b860-4b5abedda204",
   "metadata": {},
   "source": [
    "### column: price"
   ]
  },
  {
   "cell_type": "markdown",
   "id": "ffd4dec6-8fe3-446e-a389-154420e1ddf6",
   "metadata": {},
   "source": [
    "As mentioned above, it's weird that the `'price'` column is of type `object`. Let's look at that:"
   ]
  },
  {
   "cell_type": "code",
   "execution_count": 14,
   "id": "5dde07af-7143-4835-9824-1e6dbebae213",
   "metadata": {},
   "outputs": [
    {
     "data": {
      "text/plain": [
       "0    225 dollars\n",
       "1     89 dollars\n",
       "2    200 dollars\n",
       "3     79 dollars\n",
       "4    150 dollars\n",
       "Name: price, dtype: object"
      ]
     },
     "execution_count": 14,
     "metadata": {},
     "output_type": "execute_result"
    }
   ],
   "source": [
    "price['price'].head()"
   ]
  },
  {
   "cell_type": "markdown",
   "id": "b21ea4ba-5444-4fbc-8a91-6e4951e14fc6",
   "metadata": {},
   "source": [
    "So it looks like the prices are of the form '[int] dollars'. Let me confirm that:"
   ]
  },
  {
   "cell_type": "code",
   "execution_count": 15,
   "id": "93bff51d-616b-4bc5-8296-c90113d2fda3",
   "metadata": {},
   "outputs": [
    {
     "name": "stdout",
     "output_type": "stream",
     "text": [
      "Number of rows with different price format:\n"
     ]
    },
    {
     "data": {
      "text/plain": [
       "0"
      ]
     },
     "execution_count": 15,
     "metadata": {},
     "output_type": "execute_result"
    }
   ],
   "source": [
    "is_dollar_format = price['price'].apply(\n",
    "    lambda x : bool(\n",
    "        re.match('[\\d]+ dollars', x)\n",
    "    )\n",
    ")\n",
    "print('Number of rows with different price format:')\n",
    "price[~is_dollar_format].shape[0]"
   ]
  },
  {
   "cell_type": "markdown",
   "id": "fc8e1fbd-b2a0-439b-a434-c31cef1be733",
   "metadata": {},
   "source": [
    "N.B. the above also confirms that all are the prices are ints, since I didn't include the possibility of a decimal point in the regex.\n",
    "\n",
    "I can therefore deal with this by just stripping off the `' dollars'` and converting to `int`:"
   ]
  },
  {
   "cell_type": "code",
   "execution_count": 16,
   "id": "0addd810-ff48-42f2-a7ee-a734a87ee7a4",
   "metadata": {},
   "outputs": [],
   "source": [
    "price['price'] = price['price'].str.replace(' dollars', '').astype('int')"
   ]
  },
  {
   "cell_type": "code",
   "execution_count": 17,
   "id": "bf9d10a1-1aa0-4176-a3be-7e38817d0336",
   "metadata": {},
   "outputs": [
    {
     "data": {
      "text/plain": [
       "count    25209.000000\n",
       "mean       141.777936\n",
       "std        147.349137\n",
       "min          0.000000\n",
       "25%         69.000000\n",
       "50%        105.000000\n",
       "75%        175.000000\n",
       "max       7500.000000\n",
       "Name: price, dtype: float64"
      ]
     },
     "execution_count": 17,
     "metadata": {},
     "output_type": "execute_result"
    }
   ],
   "source": [
    "price['price'].describe()"
   ]
  },
  {
   "cell_type": "markdown",
   "id": "c12c89f9-594f-4403-954b-179f075704cc",
   "metadata": {},
   "source": [
    "Weirdly there seem to be some listings at zero dollars:"
   ]
  },
  {
   "cell_type": "code",
   "execution_count": 18,
   "id": "26f75250-c3c2-4618-8774-38baf7d7400c",
   "metadata": {},
   "outputs": [
    {
     "data": {
      "text/html": [
       "<div>\n",
       "<style scoped>\n",
       "    .dataframe tbody tr th:only-of-type {\n",
       "        vertical-align: middle;\n",
       "    }\n",
       "\n",
       "    .dataframe tbody tr th {\n",
       "        vertical-align: top;\n",
       "    }\n",
       "\n",
       "    .dataframe thead th {\n",
       "        text-align: right;\n",
       "    }\n",
       "</style>\n",
       "<table border=\"1\" class=\"dataframe\">\n",
       "  <thead>\n",
       "    <tr style=\"text-align: right;\">\n",
       "      <th></th>\n",
       "      <th>listing_id</th>\n",
       "      <th>price</th>\n",
       "      <th>nbhood_full</th>\n",
       "      <th>borough</th>\n",
       "      <th>nbhood</th>\n",
       "    </tr>\n",
       "  </thead>\n",
       "  <tbody>\n",
       "    <tr>\n",
       "      <th>10861</th>\n",
       "      <td>20333471</td>\n",
       "      <td>0</td>\n",
       "      <td>Bronx, East Morrisania</td>\n",
       "      <td>Bronx</td>\n",
       "      <td>East Morrisania</td>\n",
       "    </tr>\n",
       "    <tr>\n",
       "      <th>10958</th>\n",
       "      <td>20523843</td>\n",
       "      <td>0</td>\n",
       "      <td>Brooklyn, Bushwick</td>\n",
       "      <td>Brooklyn</td>\n",
       "      <td>Bushwick</td>\n",
       "    </tr>\n",
       "    <tr>\n",
       "      <th>11023</th>\n",
       "      <td>20639628</td>\n",
       "      <td>0</td>\n",
       "      <td>Brooklyn, Bedford-Stuyvesant</td>\n",
       "      <td>Brooklyn</td>\n",
       "      <td>Bedford-Stuyvesant</td>\n",
       "    </tr>\n",
       "    <tr>\n",
       "      <th>11024</th>\n",
       "      <td>20639792</td>\n",
       "      <td>0</td>\n",
       "      <td>Brooklyn, Bedford-Stuyvesant</td>\n",
       "      <td>Brooklyn</td>\n",
       "      <td>Bedford-Stuyvesant</td>\n",
       "    </tr>\n",
       "    <tr>\n",
       "      <th>11025</th>\n",
       "      <td>20639914</td>\n",
       "      <td>0</td>\n",
       "      <td>Brooklyn, Bedford-Stuyvesant</td>\n",
       "      <td>Brooklyn</td>\n",
       "      <td>Bedford-Stuyvesant</td>\n",
       "    </tr>\n",
       "    <tr>\n",
       "      <th>11577</th>\n",
       "      <td>21291569</td>\n",
       "      <td>0</td>\n",
       "      <td>Brooklyn, Bushwick</td>\n",
       "      <td>Brooklyn</td>\n",
       "      <td>Bushwick</td>\n",
       "    </tr>\n",
       "    <tr>\n",
       "      <th>11589</th>\n",
       "      <td>21304320</td>\n",
       "      <td>0</td>\n",
       "      <td>Brooklyn, Bushwick</td>\n",
       "      <td>Brooklyn</td>\n",
       "      <td>Bushwick</td>\n",
       "    </tr>\n",
       "  </tbody>\n",
       "</table>\n",
       "</div>"
      ],
      "text/plain": [
       "       listing_id  price                   nbhood_full   borough  \\\n",
       "10861    20333471      0        Bronx, East Morrisania     Bronx   \n",
       "10958    20523843      0            Brooklyn, Bushwick  Brooklyn   \n",
       "11023    20639628      0  Brooklyn, Bedford-Stuyvesant  Brooklyn   \n",
       "11024    20639792      0  Brooklyn, Bedford-Stuyvesant  Brooklyn   \n",
       "11025    20639914      0  Brooklyn, Bedford-Stuyvesant  Brooklyn   \n",
       "11577    21291569      0            Brooklyn, Bushwick  Brooklyn   \n",
       "11589    21304320      0            Brooklyn, Bushwick  Brooklyn   \n",
       "\n",
       "                   nbhood  \n",
       "10861     East Morrisania  \n",
       "10958            Bushwick  \n",
       "11023  Bedford-Stuyvesant  \n",
       "11024  Bedford-Stuyvesant  \n",
       "11025  Bedford-Stuyvesant  \n",
       "11577            Bushwick  \n",
       "11589            Bushwick  "
      ]
     },
     "execution_count": 18,
     "metadata": {},
     "output_type": "execute_result"
    }
   ],
   "source": [
    "price[\n",
    "    price['price'] == 0\n",
    "]"
   ]
  },
  {
   "cell_type": "markdown",
   "id": "97aae1b6-52de-47f5-9d26-d39a563dab35",
   "metadata": {},
   "source": [
    "Not sure whether this is dirty data or just nontraditional Airbnb listings."
   ]
  },
  {
   "cell_type": "markdown",
   "id": "64bea333-a9b6-4189-bb24-1bc18de4fcfc",
   "metadata": {},
   "source": [
    "## data: room_type"
   ]
  },
  {
   "cell_type": "code",
   "execution_count": 19,
   "id": "a7bd7447-2a98-4cd7-ae14-911b11f50030",
   "metadata": {},
   "outputs": [
    {
     "name": "stdout",
     "output_type": "stream",
     "text": [
      "<class 'pandas.core.frame.DataFrame'>\n",
      "RangeIndex: 25209 entries, 0 to 25208\n",
      "Data columns (total 3 columns):\n",
      " #   Column       Non-Null Count  Dtype \n",
      "---  ------       --------------  ----- \n",
      " 0   listing_id   25209 non-null  int64 \n",
      " 1   description  25199 non-null  object\n",
      " 2   room_type    25209 non-null  object\n",
      "dtypes: int64(1), object(2)\n",
      "memory usage: 591.0+ KB\n"
     ]
    }
   ],
   "source": [
    "room_type.info()"
   ]
  },
  {
   "cell_type": "markdown",
   "id": "22484b92-2493-4dc0-bcf9-d713f5ba5fb0",
   "metadata": {},
   "source": [
    "### column: description"
   ]
  },
  {
   "cell_type": "markdown",
   "id": "dc3ed026-0258-499c-9d64-bf7475f11dd9",
   "metadata": {},
   "source": [
    "In this column there are ten observations with missing values, and there appear to be some nearly-identical descriptions:"
   ]
  },
  {
   "cell_type": "code",
   "execution_count": 20,
   "id": "0d7bbd66-c8ae-4722-b074-de8bcd03eb40",
   "metadata": {},
   "outputs": [
    {
     "data": {
      "text/plain": [
       "description\n",
       "Loft Suite @ The Box House Hotel    10\n",
       "Home away from home                 10\n",
       "Brooklyn Apartment                   5\n",
       "Beautiful Brooklyn Brownstone        5\n",
       "Private room                         5\n",
       "Private Room                         5\n",
       "Harlem Gem                           5\n",
       "Cozy Apartment                       4\n",
       "Loft Suite @ Box House Hotel         4\n",
       "Brooklyn Garden Apartment            4\n",
       "Name: count, dtype: int64"
      ]
     },
     "execution_count": 20,
     "metadata": {},
     "output_type": "execute_result"
    }
   ],
   "source": [
    "room_type['description'].value_counts().head(10)"
   ]
  },
  {
   "cell_type": "markdown",
   "id": "ccd63de0-9728-4f34-ba04-5c64bd766543",
   "metadata": {},
   "source": [
    "But I don't plan on making use of this column, so I'll leave it be."
   ]
  },
  {
   "cell_type": "markdown",
   "id": "e9c40df9-d7b1-4512-b83a-b61ab68459f2",
   "metadata": {},
   "source": [
    "### column: room_type"
   ]
  },
  {
   "cell_type": "markdown",
   "id": "28550684-bc99-4d85-91e5-914d27d7cadf",
   "metadata": {},
   "source": [
    "This column has no missing values, but lots of value inconsistency:"
   ]
  },
  {
   "cell_type": "code",
   "execution_count": 21,
   "id": "10e95c90-a214-4fff-bea7-5a1eac7aa258",
   "metadata": {},
   "outputs": [
    {
     "data": {
      "text/plain": [
       "array(['Entire home/apt', 'private room', 'Private room',\n",
       "       'entire home/apt', 'PRIVATE ROOM', 'shared room',\n",
       "       'ENTIRE HOME/APT', 'Shared room', 'SHARED ROOM'], dtype=object)"
      ]
     },
     "execution_count": 21,
     "metadata": {},
     "output_type": "execute_result"
    }
   ],
   "source": [
    "room_type['room_type'].unique()"
   ]
  },
  {
   "cell_type": "markdown",
   "id": "bd46cfe5-f2f5-4376-947a-8d8a376e63cd",
   "metadata": {},
   "source": [
    "But all the value inconsistency is in the case, so I'll just lowercase everything and call it a day."
   ]
  },
  {
   "cell_type": "code",
   "execution_count": 22,
   "id": "dc7278f0-8192-4252-ac53-e245f82a386c",
   "metadata": {},
   "outputs": [],
   "source": [
    "room_type['room_type'] = room_type['room_type'].str.lower().astype('category')"
   ]
  },
  {
   "cell_type": "markdown",
   "id": "d4903bfb-5862-43a0-b968-cbed26a9b28c",
   "metadata": {},
   "source": [
    "## data: last_review"
   ]
  },
  {
   "cell_type": "code",
   "execution_count": 23,
   "id": "3a4404ff-2069-4c46-8e04-f9bf9dbb7216",
   "metadata": {},
   "outputs": [
    {
     "name": "stdout",
     "output_type": "stream",
     "text": [
      "<class 'pandas.core.frame.DataFrame'>\n",
      "RangeIndex: 25209 entries, 0 to 25208\n",
      "Data columns (total 3 columns):\n",
      " #   Column       Non-Null Count  Dtype \n",
      "---  ------       --------------  ----- \n",
      " 0   listing_id   25209 non-null  int64 \n",
      " 1   host_name    25201 non-null  object\n",
      " 2   last_review  25209 non-null  object\n",
      "dtypes: int64(1), object(2)\n",
      "memory usage: 591.0+ KB\n"
     ]
    }
   ],
   "source": [
    "last_review.info()"
   ]
  },
  {
   "cell_type": "markdown",
   "id": "40491fc4-8039-45ac-ba10-df2a884e456c",
   "metadata": {
    "jp-MarkdownHeadingCollapsed": true
   },
   "source": [
    "### column: host_name"
   ]
  },
  {
   "cell_type": "markdown",
   "id": "2db6aaab-1611-459c-84a1-d56fef502652",
   "metadata": {},
   "source": [
    "Missing eight values, but I don't plan on making use of this column, so I'll leave it be."
   ]
  },
  {
   "cell_type": "code",
   "execution_count": 24,
   "id": "0f6fd238-1e33-480a-9819-8ae716f66b4b",
   "metadata": {},
   "outputs": [
    {
     "data": {
      "text/plain": [
       "8"
      ]
     },
     "execution_count": 24,
     "metadata": {},
     "output_type": "execute_result"
    }
   ],
   "source": [
    "last_review['host_name'].isna().sum()"
   ]
  },
  {
   "cell_type": "markdown",
   "id": "bf42870e-d5ca-4067-aa71-f9af5fd1d152",
   "metadata": {},
   "source": [
    "But I don't plan on making use of this column, so I'll leave it be."
   ]
  },
  {
   "cell_type": "markdown",
   "id": "2f49f45d-e460-4b87-92a2-48428b71d6d7",
   "metadata": {},
   "source": [
    "### column: last_review"
   ]
  },
  {
   "cell_type": "markdown",
   "id": "d9c47709-64dd-439d-8a71-9021402a2aa3",
   "metadata": {},
   "source": [
    "No missing values here. And since the dates come with the months spelled out and the full year, I don't have to worry about format ambiguity. So:"
   ]
  },
  {
   "cell_type": "code",
   "execution_count": 25,
   "id": "c6d88583-7c88-46de-80f8-5512d4908cc5",
   "metadata": {},
   "outputs": [],
   "source": [
    "last_review['last_review'] = pd.to_datetime(last_review['last_review'])"
   ]
  },
  {
   "cell_type": "markdown",
   "id": "9a77c6cd-0f1e-4d23-8e84-1d998773e236",
   "metadata": {},
   "source": [
    "Taking a look at the output:"
   ]
  },
  {
   "cell_type": "code",
   "execution_count": 26,
   "id": "2ff46398-743f-43df-be69-53f5e4f3c64e",
   "metadata": {},
   "outputs": [
    {
     "data": {
      "text/plain": [
       "min    2019\n",
       "max    2019\n",
       "Name: last_review, dtype: int64"
      ]
     },
     "execution_count": 26,
     "metadata": {},
     "output_type": "execute_result"
    }
   ],
   "source": [
    "last_review['last_review'].dt.year.agg(['min', 'max'])"
   ]
  },
  {
   "cell_type": "code",
   "execution_count": 27,
   "id": "dbfe3acc-5fbb-4dc8-8153-de073a20e4eb",
   "metadata": {},
   "outputs": [
    {
     "data": {
      "text/plain": [
       "min    1\n",
       "max    7\n",
       "Name: last_review, dtype: int64"
      ]
     },
     "execution_count": 27,
     "metadata": {},
     "output_type": "execute_result"
    }
   ],
   "source": [
    "last_review['last_review'].dt.month.agg(['min', 'max'])"
   ]
  },
  {
   "cell_type": "markdown",
   "id": "88285587-5999-45ef-87d8-5b84f650ada6",
   "metadata": {},
   "source": [
    "So all the reviews seem to be from between January and July of 2019."
   ]
  },
  {
   "cell_type": "markdown",
   "id": "ba17938c-93db-4ca0-ba97-dd82c153327a",
   "metadata": {},
   "source": [
    "## listing_id: consistency check"
   ]
  },
  {
   "cell_type": "markdown",
   "id": "fb7b9c61-edb8-4e93-a855-1ac632e85002",
   "metadata": {},
   "source": [
    "Now to check that the listing id's are consistent. I'll do this by evaluating whether each DataFrame's set of unique listing id's is contained in the others' sets:"
   ]
  },
  {
   "cell_type": "code",
   "execution_count": 28,
   "id": "03e9e661-0701-40b1-b902-af8ac3d3ff69",
   "metadata": {},
   "outputs": [
    {
     "name": "stdout",
     "output_type": "stream",
     "text": [
      "True\n",
      "True\n",
      "True\n",
      "True\n",
      "True\n",
      "True\n"
     ]
    }
   ],
   "source": [
    "price_id = price['listing_id'].unique()\n",
    "room_type_id = room_type['listing_id'].unique()\n",
    "last_review_id = last_review['listing_id'].unique()\n",
    "\n",
    "id_arrays = [price_id, room_type_id, last_review_id]\n",
    "\n",
    "for x in it.permutations(id_arrays, r=2):\n",
    "    print(\n",
    "        set(x[0]).issubset(set(x[1]))\n",
    "    )"
   ]
  },
  {
   "cell_type": "markdown",
   "id": "905e9fc0-e4b2-4ac9-871f-1afae1d50289",
   "metadata": {},
   "source": [
    "All true, so every listing id is represented in all of the DataFrames."
   ]
  },
  {
   "cell_type": "markdown",
   "id": "0d64eeef-b755-49a4-8d31-f5b9ad4e1dcf",
   "metadata": {},
   "source": [
    "# Project solution"
   ]
  },
  {
   "cell_type": "markdown",
   "id": "da7b1c7c-db34-481e-8fb5-5cd57a3d7da8",
   "metadata": {},
   "source": [
    "## Earliest and latest reviews"
   ]
  },
  {
   "cell_type": "code",
   "execution_count": 29,
   "id": "826ac021-d78b-428c-bc00-a74bd0891b58",
   "metadata": {},
   "outputs": [
    {
     "data": {
      "text/plain": [
       "min   2019-01-01\n",
       "max   2019-07-09\n",
       "Name: last_review, dtype: datetime64[ns]"
      ]
     },
     "execution_count": 29,
     "metadata": {},
     "output_type": "execute_result"
    }
   ],
   "source": [
    "last_review['last_review'].agg(['min', 'max'])"
   ]
  },
  {
   "cell_type": "code",
   "execution_count": 30,
   "id": "092f36c3-b112-4174-bb1d-4babaf9dfdb6",
   "metadata": {},
   "outputs": [],
   "source": [
    "first_reviewed = last_review['last_review'].min()\n",
    "last_reviewed = last_review['last_review'].max()"
   ]
  },
  {
   "cell_type": "markdown",
   "id": "d95442a1-5f0c-4950-b9ab-a4d3d3a0797d",
   "metadata": {},
   "source": [
    "## Number of private rooms"
   ]
  },
  {
   "cell_type": "code",
   "execution_count": 31,
   "id": "1e6f0db9-869d-4b98-a62a-ddca322abdfe",
   "metadata": {},
   "outputs": [],
   "source": [
    "nb_private_rooms = room_type['room_type'].value_counts()['private room']"
   ]
  },
  {
   "cell_type": "markdown",
   "id": "9710316a-51f1-43d2-b186-ec9b76fc0dc8",
   "metadata": {},
   "source": [
    "## Average listing price"
   ]
  },
  {
   "cell_type": "code",
   "execution_count": 32,
   "id": "249c2e98-4a84-4e27-96ad-0d9d953c5e59",
   "metadata": {},
   "outputs": [],
   "source": [
    "avg_price = round(price['price'].mean(), 2)"
   ]
  },
  {
   "cell_type": "markdown",
   "id": "ed3f23eb-4d17-4807-b2a3-5314ce2d3a57",
   "metadata": {},
   "source": [
    "## Submission DataFrame"
   ]
  },
  {
   "cell_type": "markdown",
   "id": "c7423017-a0a0-4a32-9cf2-578a4510ca38",
   "metadata": {},
   "source": [
    "Combine the new variables into one DataFrame called `review_dates` with four columns in the following order: `first_reviewed`, `last_reviewed`, `nb_private_rooms`, and `avg_price`. The DataFrame should only contain one row of values."
   ]
  },
  {
   "cell_type": "code",
   "execution_count": 33,
   "id": "dee8b855-2912-4a71-9e1b-c516866e6db4",
   "metadata": {},
   "outputs": [],
   "source": [
    "review_dates = pd.DataFrame()\n",
    "review_dates['first_reviewed'] = [first_reviewed]\n",
    "review_dates['last_reviewed'] = [last_reviewed]\n",
    "review_dates['nb_private_rooms'] = [nb_private_rooms]\n",
    "review_dates['avg_price'] = [avg_price]"
   ]
  },
  {
   "cell_type": "code",
   "execution_count": 34,
   "id": "fcd5cde3-7579-4f95-86a6-e04801ff8188",
   "metadata": {},
   "outputs": [
    {
     "data": {
      "text/html": [
       "<div>\n",
       "<style scoped>\n",
       "    .dataframe tbody tr th:only-of-type {\n",
       "        vertical-align: middle;\n",
       "    }\n",
       "\n",
       "    .dataframe tbody tr th {\n",
       "        vertical-align: top;\n",
       "    }\n",
       "\n",
       "    .dataframe thead th {\n",
       "        text-align: right;\n",
       "    }\n",
       "</style>\n",
       "<table border=\"1\" class=\"dataframe\">\n",
       "  <thead>\n",
       "    <tr style=\"text-align: right;\">\n",
       "      <th></th>\n",
       "      <th>first_reviewed</th>\n",
       "      <th>last_reviewed</th>\n",
       "      <th>nb_private_rooms</th>\n",
       "      <th>avg_price</th>\n",
       "    </tr>\n",
       "  </thead>\n",
       "  <tbody>\n",
       "    <tr>\n",
       "      <th>0</th>\n",
       "      <td>2019-01-01</td>\n",
       "      <td>2019-07-09</td>\n",
       "      <td>11356</td>\n",
       "      <td>141.78</td>\n",
       "    </tr>\n",
       "  </tbody>\n",
       "</table>\n",
       "</div>"
      ],
      "text/plain": [
       "  first_reviewed last_reviewed  nb_private_rooms  avg_price\n",
       "0     2019-01-01    2019-07-09             11356     141.78"
      ]
     },
     "execution_count": 34,
     "metadata": {},
     "output_type": "execute_result"
    }
   ],
   "source": [
    "review_dates"
   ]
  }
 ],
 "metadata": {
  "colab": {
   "name": "Welcome to DataCamp Workspaces.ipynb",
   "provenance": []
  },
  "kernelspec": {
   "display_name": "Python 3 (ipykernel)",
   "language": "python",
   "name": "python3"
  },
  "language_info": {
   "codemirror_mode": {
    "name": "ipython",
    "version": 3
   },
   "file_extension": ".py",
   "mimetype": "text/x-python",
   "name": "python",
   "nbconvert_exporter": "python",
   "pygments_lexer": "ipython3",
   "version": "3.11.9"
  }
 },
 "nbformat": 4,
 "nbformat_minor": 5
}
